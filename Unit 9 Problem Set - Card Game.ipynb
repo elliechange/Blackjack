{
 "cells": [
  {
   "cell_type": "code",
   "execution_count": null,
   "metadata": {},
   "outputs": [],
   "source": [
    "# Unit 9 Problem Set\n",
    "\n",
    "In this problem set we will build a set of classes that will be used to play the card game Blackjack. If you have never played, then you can find the simple rules here: https://www.bicyclecards.com/how-to-play/blackjack/\n"
   ]
  },
  {
   "cell_type": "markdown",
   "metadata": {},
   "source": [
    "## The Card class"
   ]
  },
  {
   "cell_type": "markdown",
   "metadata": {},
   "source": [
    "1.Think about a deck of cards. What do you need to know in order to tell one card from another? \n",
    "\n",
    "There are thirteen different ranks, from Ace to King. There are four different suits: Clubs, Diamonds, Hearts, and Spades. So, to know everything about a single card you need its rank and its suit. In card games such as blackjack, where the cards are worth a certain number of points, it is also helpful to have a third variable, called value that is an integer related to a card's rank. The values of the cards are [2,3,4,5,6,7,8,9,10,10,10,10,11], respectively (meaning, the Jack, King, Queen, and 10 have a value of 10 and the Ace has a value of 11).\n",
    "\n",
    "Create a **class** named **Card**. Include three **attributes**: **rank** and **suit** (both strings) and **value** (int). Don't forget the initializing (__init__) and the toString (__str__) methods.\n",
    "\n",
    "Test that you can create a few cards. Make several instances of different cards: try Ace of Spades and Eight of Hearts. "
   ]
  },
  {
   "cell_type": "code",
   "execution_count": 2,
   "metadata": {},
   "outputs": [
    {
     "name": "stdout",
     "output_type": "stream",
     "text": [
      "Ace of Spades\n",
      "Eight of Hearts\n"
     ]
    }
   ],
   "source": [
    "class Card: \n",
    "    def __init__(self, rank, suit, value):\n",
    "        self.rank = rank\n",
    "        self.suit = suit\n",
    "        self.value = value\n",
    "        \n",
    "    def __str__(self):\n",
    "        return f\"{self.rank} of {self.suit}\"\n",
    "\n",
    "card_1 = Card(\"Ace\", \"Spades\", 11)\n",
    "card_2 = Card(\"Eight\", \"Hearts\", 8)\n",
    "print(card_1)\n",
    "print(card_2)"
   ]
  },
  {
   "cell_type": "code",
   "execution_count": null,
   "metadata": {},
   "outputs": [],
   "source": []
  },
  {
   "cell_type": "code",
   "execution_count": null,
   "metadata": {},
   "outputs": [],
   "source": []
  },
  {
   "cell_type": "code",
   "execution_count": null,
   "metadata": {},
   "outputs": [],
   "source": []
  },
  {
   "cell_type": "markdown",
   "metadata": {},
   "source": [
    "## The Deck class"
   ]
  },
  {
   "cell_type": "markdown",
   "metadata": {},
   "source": [
    "2.A typical deck of cards has one of each rank in one of each suit, for a total of 52 cards. Create a **class** named **Deck**. The **attribute** of our Deck class will be a single list of 52 Card objects named **cards**.\n",
    "\n",
    "To do this, you will need to send three lists to the initializing method as input: ranks, suits, and values. Then use a double for-loop to create the Cards (by calling the initializing method of the Card Class) and append them to the list called cards. To help, here are three lists that you can copy and paste in your code below:\n",
    "\n",
    "ranks = ['Two','Three','Four','Five','Six','Seven','Eight','Nine','Ten','Jack','Queen','King','Ace']\n",
    "\n",
    "suits = ['Clubs', 'Diamonds', 'Hearts', 'Spades']\n",
    "\n",
    "values = [2,3,4,5,6,7,8,9,10,10,10,10,11]"
   ]
  },
  {
   "cell_type": "code",
   "execution_count": 3,
   "metadata": {},
   "outputs": [],
   "source": [
    "ranks = ['Two','Three','Four','Five','Six','Seven','Eight','Nine','Ten','Jack','Queen','King','Ace']\n",
    "\n",
    "suits = ['Clubs', 'Diamonds', 'Hearts', 'Spades']\n",
    "\n",
    "values = [2,3,4,5,6,7,8,9,10,10,10,10,11]\n",
    "\n",
    "class Deck:\n",
    "    def __init__(self, ranks, suits, values):\n",
    "        self.cards = []\n",
    "        for i,rank in enumerate(ranks): \n",
    "            for suit in suits: \n",
    "                self.cards.append(Card(rank, suit, values[i]))\n",
    "    "
   ]
  },
  {
   "cell_type": "code",
   "execution_count": null,
   "metadata": {},
   "outputs": [],
   "source": []
  },
  {
   "cell_type": "code",
   "execution_count": null,
   "metadata": {},
   "outputs": [],
   "source": []
  },
  {
   "cell_type": "code",
   "execution_count": null,
   "metadata": {},
   "outputs": [],
   "source": []
  },
  {
   "cell_type": "markdown",
   "metadata": {},
   "source": [
    "3.One obvious **method** that you will need is a **shuffle()** method that shuffles the deck **in place**. This method should reorder the deck randomly. There are many ways to do this, but luckily, the Python random package has a shuffle method built in that shuffles a list in place! \n",
    "\n",
    "Finally, create a method called **get_top_card()**. This method should **return** the card with index 0, and remove it from the deck **in place**."
   ]
  },
  {
   "cell_type": "code",
   "execution_count": 4,
   "metadata": {},
   "outputs": [],
   "source": [
    "from random import shuffle\n",
    "\n",
    "ranks = ['Two','Three','Four','Five','Six','Seven','Eight','Nine','Ten','Jack','Queen','King','Ace']\n",
    "\n",
    "suits = ['Clubs', 'Diamonds', 'Hearts', 'Spades']\n",
    "\n",
    "values = [2,3,4,5,6,7,8,9,10,10,10,10,11]\n",
    "\n",
    "class Deck:\n",
    "    def __init__(self, ranks, suits, values):\n",
    "        self.cards = []\n",
    "        for i,rank in enumerate(ranks): \n",
    "            for suit in suits: \n",
    "                self.cards.append(Card(rank, suit, values[i]))\n",
    "    \n",
    "    def shuffle(self):\n",
    "        random.shuffle(self.cards)\n",
    "        return self.cards\n",
    "    \n",
    "    def get_top_card(self):\n",
    "        return self.cards.pop(0)"
   ]
  },
  {
   "cell_type": "code",
   "execution_count": null,
   "metadata": {},
   "outputs": [],
   "source": []
  },
  {
   "cell_type": "code",
   "execution_count": null,
   "metadata": {},
   "outputs": [],
   "source": []
  },
  {
   "cell_type": "code",
   "execution_count": null,
   "metadata": {},
   "outputs": [],
   "source": []
  },
  {
   "cell_type": "markdown",
   "metadata": {},
   "source": [
    "4.Use the cell below to test your deck method. Hint: check the length of your deck to make sure that the get_top_card method is removing a card from the deck. Also check that your deck is getting randomly shuffled. Insert some test code below."
   ]
  },
  {
   "cell_type": "code",
   "execution_count": 5,
   "metadata": {},
   "outputs": [
    {
     "name": "stdout",
     "output_type": "stream",
     "text": [
      "52\n",
      "Ace of Spades\n",
      "51\n",
      "Queen of Hearts\n",
      "Ten of Hearts\n",
      "Seven of Hearts\n",
      "Four of Diamonds\n",
      "Seven of Diamonds\n",
      "Seven of Clubs\n",
      "Three of Clubs\n",
      "Jack of Clubs\n",
      "Ace of Hearts\n",
      "Queen of Clubs\n",
      "Three of Diamonds\n",
      "Two of Clubs\n",
      "Ten of Diamonds\n",
      "Six of Spades\n",
      "Four of Clubs\n",
      "Three of Spades\n",
      "Ace of Clubs\n",
      "Eight of Clubs\n",
      "Eight of Diamonds\n",
      "Nine of Clubs\n",
      "King of Diamonds\n",
      "Jack of Hearts\n",
      "Eight of Spades\n",
      "Three of Hearts\n",
      "Ace of Diamonds\n",
      "Queen of Spades\n",
      "Five of Hearts\n",
      "Six of Clubs\n",
      "Eight of Hearts\n",
      "King of Spades\n",
      "Six of Diamonds\n",
      "Four of Spades\n",
      "King of Hearts\n",
      "Jack of Diamonds\n",
      "Five of Spades\n",
      "Ten of Clubs\n",
      "Two of Spades\n",
      "Nine of Diamonds\n",
      "Six of Hearts\n",
      "Ten of Spades\n",
      "Nine of Hearts\n",
      "King of Clubs\n",
      "Nine of Spades\n",
      "Five of Diamonds\n",
      "Queen of Diamonds\n",
      "Two of Diamonds\n",
      "Two of Hearts\n",
      "Four of Hearts\n",
      "Jack of Spades\n",
      "Seven of Spades\n",
      "Five of Clubs\n"
     ]
    }
   ],
   "source": [
    "from random import shuffle\n",
    "\n",
    "ranks = ['Two','Three','Four','Five','Six','Seven','Eight','Nine','Ten','Jack','Queen','King','Ace']\n",
    "\n",
    "suits = ['Clubs', 'Diamonds', 'Hearts', 'Spades']\n",
    "\n",
    "values = [2,3,4,5,6,7,8,9,10,10,10,10,11]\n",
    "\n",
    "class Deck:\n",
    "    def __init__(self, ranks, suits, values):\n",
    "        self.cards = []\n",
    "        for i,rank in enumerate(ranks): \n",
    "            for suit in suits: \n",
    "                self.cards.append(Card(rank, suit, values[i]))\n",
    "    \n",
    "    def shuffle(self):\n",
    "        shuffle(self.cards)\n",
    "        return self.cards\n",
    "    \n",
    "    def get_top_card(self):\n",
    "        return self.cards.pop(0)\n",
    "\n",
    "d = Deck(ranks,suits,values)\n",
    "d.shuffle()\n",
    "print(len(d.cards))\n",
    "print(d.get_top_card())\n",
    "print(len(d.cards))\n",
    "for card in d.cards:\n",
    "    print(card)"
   ]
  },
  {
   "cell_type": "markdown",
   "metadata": {},
   "source": [
    "## The Blackjack class"
   ]
  },
  {
   "cell_type": "markdown",
   "metadata": {},
   "source": [
    "When a 'single' program is built from several classes, it is common to have a runner class that is not intended to create objects. We will name our **runner class**, **Blackjack**. Since we will not be creating instances of this class, we do not need an initializing method. \n",
    "\n",
    "We will need **methods** as follows (notice that they are named so that anyone will know what they do):\n",
    "\n",
    "**player_turn()**, **computer_turn()**, **deal()**, **check_bust()**, **check_blackjack()**, **find_winner()**, and finally a **main** method to control the order of when methods will be called. See below for an outline of the main method. Your job is to finish the main and write the rest of the methods."
   ]
  },
  {
   "cell_type": "code",
   "execution_count": 56,
   "metadata": {},
   "outputs": [
    {
     "name": "stdout",
     "output_type": "stream",
     "text": [
      "player sum:  6\n",
      "comp sum:  11\n",
      "player sum:  10\n",
      "comp sum:  19\n",
      "Do you want to choose a new card? yes/no yes\n",
      "player sum:  20\n",
      "Do you want to choose a new card? yes/no no\n",
      "final player sum:  20\n",
      "comp sum:  19\n",
      "Player Wins!\n"
     ]
    }
   ],
   "source": [
    "class Blackjack:\n",
    "        \n",
    "        def deal(self, deck, tally):\n",
    "            '''deals a single card and returns the new tally of all that player/'s cards'''\n",
    "            c = deck.get_top_card()\n",
    "            tally += c.value\n",
    "            #print('inside deal', tally)\n",
    "            return tally\n",
    "        \n",
    "        def check_bust(self, tally):\n",
    "            '''returns True or False based on whether the tally is greater than 21'''\n",
    "            if tally > 21:\n",
    "                return True\n",
    "            return False\n",
    "        \n",
    "        def check_blackjack(self, tally):\n",
    "            '''returns True or False based on whether the tally is equal to 21'''\n",
    "            if tally == 21:\n",
    "                return True\n",
    "            return False\n",
    "            \n",
    "        #player method\n",
    "        def player_turn(self, deck, player_sum):\n",
    "            '''Continues to ask the user if they want to choose a new card (and then chooses a card)\n",
    "            until the player busts or chooses to stop receiving more cards. It then returns the player_sum.'''\n",
    "            while self.check_bust(player_sum) == False:\n",
    "                new_card = input('Do you want to choose a new card? yes/no ')\n",
    "                if new_card == 'yes':\n",
    "                    player_sum = self.deal(deck, player_sum)\n",
    "                    print('player sum: ',player_sum)\n",
    "                    #return player_sum\n",
    "                else: \n",
    "                    print('final player sum: ', player_sum)\n",
    "                    return player_sum\n",
    "                    break\n",
    "            return player_sum\n",
    "                    \n",
    "\n",
    "        \n",
    "        #computer method\n",
    "        def computer_turn(self, deck, comp_sum):\n",
    "            '''Continues to choose a new card\n",
    "            until the computer busts or the comp_sum becomes 17 or higher. It then returns the comp_sum.'''\n",
    "            while comp_sum < 17:\n",
    "                comp_sum = self.deal(deck, comp_sum)\n",
    "                print('comp sum: ',comp_sum)\n",
    "                #return comp_sum\n",
    "            if self.check_bust(comp_sum):\n",
    "                print('comp sum: ',comp_sum)\n",
    "                return comp_sum\n",
    "            else:\n",
    "                print('comp sum: ',comp_sum)\n",
    "                return comp_sum\n",
    "\n",
    "        \n",
    "        def find_winner(self, player_sum, comp_sum):\n",
    "            '''Prints Player Wins!, Computer Wins!, or Tie! based on a comparison of player_sum and comp_sum.'''\n",
    "            #print(player_sum, comp_sum)\n",
    "            if self.check_bust(player_sum) == True:\n",
    "                print('Computer Wins!')\n",
    "            elif self.check_blackjack(player_sum) == True and comp_sum != 21:\n",
    "                print('Player Wins!')\n",
    "            elif self.check_bust(comp_sum) == True and player_sum < 21:\n",
    "                print('Player Wins!')\n",
    "            elif self.check_blackjack(player_sum) == True and self.check_blackjack(comp_sum) == True:\n",
    "                print('Tie!')\n",
    "            else:\n",
    "                if player_sum > comp_sum:\n",
    "                    print('Player Wins!')\n",
    "                elif comp_sum > player_sum:\n",
    "                    print('Computer Wins!')\n",
    "                else:\n",
    "                    print('Tie!')\n",
    "\n",
    "        \n",
    "        def main(self):\n",
    "        \n",
    "            #create a runner class\n",
    "            game = Blackjack()\n",
    "            \n",
    "            #we will need these lists below\n",
    "            ranks = ['Two','Three','Four','Five','Six','Seven','Eight','Nine','Ten','Jack','Queen','King','Ace']\n",
    "            suits = ['Clubs', 'Diamonds', 'Hearts', 'Spades']\n",
    "            values = [2,3,4,5,6,7,8,9,10,10,10,10,11]\n",
    "\n",
    "            #create a deck object\n",
    "            new_deck = Deck(ranks,suits,values)\n",
    "            \n",
    "            #shuffle the deck\n",
    "            new_deck.shuffle()\n",
    "            #for card in new_deck.cards:\n",
    "                #print(card)\n",
    "            \n",
    "            #initialize a player_sum and comp_sum to zero\n",
    "            player_sum = 0\n",
    "            comp_sum = 0\n",
    "            \n",
    "            #deal the first four cards (alternating player/comp/player/comp)\n",
    "            player_sum = self.deal(new_deck, player_sum)\n",
    "            print('player sum: ',player_sum)\n",
    "            comp_sum = self.deal(new_deck, comp_sum)\n",
    "            print('comp sum: ',comp_sum)\n",
    "            player_sum = self.deal(new_deck, player_sum)\n",
    "            print('player sum: ',player_sum)\n",
    "            comp_sum = self.deal(new_deck, comp_sum)\n",
    "            print('comp sum: ',comp_sum)\n",
    "            \n",
    "            #let the player take their turn (meaning they can choose more cards until they choose to stop or bust)\n",
    "            player_sum = self.player_turn(new_deck, player_sum)\n",
    "            \n",
    "            #if the player's sum doesn't exactly equal to 21, let the computer take its turn (meaning it can choose more cards until it chooses to stop or bust)\n",
    "            if self.check_blackjack(player_sum) == False and self.check_bust(player_sum) == False:\n",
    "                comp_sum = self.computer_turn(new_deck, comp_sum)\n",
    "            \n",
    "            #calculate who the winner is\n",
    "            self.find_winner(player_sum, comp_sum)\n",
    "        \n",
    "# run the main program\n",
    "if __name__ == '__main__':\n",
    "    Blackjack().main()"
   ]
  }
 ],
 "metadata": {
  "kernelspec": {
   "display_name": "Python 3",
   "language": "python",
   "name": "python3"
  },
  "language_info": {
   "codemirror_mode": {
    "name": "ipython",
    "version": 3
   },
   "file_extension": ".py",
   "mimetype": "text/x-python",
   "name": "python",
   "nbconvert_exporter": "python",
   "pygments_lexer": "ipython3",
   "version": "3.7.0"
  }
 },
 "nbformat": 4,
 "nbformat_minor": 2
}
